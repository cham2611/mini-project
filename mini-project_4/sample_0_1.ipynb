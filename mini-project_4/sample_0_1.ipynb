{
 "cells": [
  {
   "cell_type": "code",
   "execution_count": 59,
   "metadata": {},
   "outputs": [
    {
     "data": {
      "text/plain": [
       "['578080',\n",
       " '1049590',\n",
       " '1091500',\n",
       " '2139460',\n",
       " '1245620',\n",
       " '2074920',\n",
       " '2183900',\n",
       " '2358720',\n",
       " '2344520',\n",
       " '2138330']"
      ]
     },
     "execution_count": 59,
     "metadata": {},
     "output_type": "execute_result"
    }
   ],
   "source": [
    "import requests\n",
    "from bs4 import BeautifulSoup\n",
    "\n",
    "url = \"https://store.steampowered.com/search/?tags=19&supportedlang=english&filter=topsellers&ndl=1\" \n",
    "#Action \"https://store.steampowered.com/search/?tags=19&supportedlang=english&filter=topsellers&ndl=1\" \n",
    "#SinglePlayer https://store.steampowered.com/search/?filter=topsellers&tags=4182&supportedlang=english&ndl=1\n",
    "# Adventure https://store.steampowered.com/search/?filter=topsellers&tags=21&supportedlang=english&ndl=1\n",
    "#Indie https://store.steampowered.com/search/?filter=topsellers&tags=492&supportedlang=english&ndl=1\n",
    "#Simulation https://store.steampowered.com/search/?filter=topsellers&tags=599&supportedlang=english&ndl=1\n",
    "#Strategy https://store.steampowered.com/search/?filter=topsellers&tags=9&supportedlang=english&ndl=1\n",
    "#Casual https://store.steampowered.com/search/?filter=topsellers&tags=597&supportedlang=english&ndl=1\n",
    "#RPG https://store.steampowered.com/search/?filter=topsellers&tags=122&supportedlang=english&ndl=1\n",
    "#Multiplayer https://store.steampowered.com/search/?filter=topsellers&tags=3859&supportedlang=english&ndl=1\n",
    "#Atmospheric https://store.steampowered.com/search/?filter=topsellers&tags=4166&supportedlang=english&ndl=1\n",
    "#2d https://store.steampowered.com/search/?filter=topsellers&tags=3871&supportedlang=english&ndl=1 \n",
    "#story rich https://store.steampowered.com/search/?filter=topsellers&tags=1742&supportedlang=english&ndl=1\n",
    " #co-op https://store.steampowered.com/search/?filter=topsellers&tags=1685&supportedlang=english&ndl=1\n",
    "#first-person https://store.steampowered.com/search/?filter=topsellers&tags=3839&supportedlang=english&ndl=1\n",
    "#3d https://store.steampowered.com/search/?filter=topsellers&tags=4191&supportedlang=english&ndl=1\n",
    "#open world https://store.steampowered.com/search/?filter=topsellers&tags=1695&supportedlang=english&ndl=1\n",
    "\n",
    "response = requests.get(url)\n",
    "# , headers={\n",
    "#     'cookie': 'steamCountry=KR!13817a80e36b14f1a94dd77fb2142a64; browserid=3999848730290483524; sessionid=2225f1149bbcf81b9631038f; timezoneOffset=32400,0; app_impressions=2344520@1_7_7_7000_150_1|2138330@1_7_7_7000_150_1|2358720@1_7_7_7000_150_1|2074920@1_7_7_7000_150_1|2183900@1_7_7_7000_150_1|1245620@1_7_7_7000_150_1|2139460@1_7_7_7000_150_1|1049590@1_7_7_7000_150_1|1091500@1_7_7_7000_150_1|578080@1_7_7_7000_150_1',\n",
    "#     'user-agent': 'Mozilla/5.0 (Windows NT 10.0; Win64; x64) AppleWebKit/537.36 (KHTML, like Gecko) Chrome/128.0.0.0 Safari/537.36',\n",
    "#     'accept-language':'ko-KR,ko;q=0.9',\n",
    "#     'accept': 'text/html,application/xhtml+xml,application/xml;q=0.9,image/avif,image/webp,image/apng,*/*;q=0.8,application/signed-exchange;v=b3;q=0.7',\n",
    "#     'accept-encoding': 'gzip, deflate, br, zstd',\n",
    "#     'cache-control':'no-cache'\n",
    "# }\n",
    "\n",
    "soup = BeautifulSoup(response.content, 'html.parser')\n",
    "\n",
    "app_ids = []\n",
    "\n",
    "container = soup.find('div', id='search_result_container')\n",
    "\n",
    "if container:\n",
    "    for item in container.find_all('a'):\n",
    "        link =item['href']\n",
    "        if 'app' in link:\n",
    "            app_id = link.split('app')[1].split('/')[1]\n",
    "            app_ids.append(app_id)\n",
    "\n",
    "app_id=app_ids[:10]\n",
    "app_id"
   ]
  },
  {
   "cell_type": "code",
   "execution_count": 74,
   "metadata": {},
   "outputs": [],
   "source": [
    "import requests\n",
    "import pandas as pd\n",
    "\n",
    "# Steam Store API에서 특정 게임의 세부 정보를 가져오는 함수\n",
    "def get_game_details(app_id):\n",
    "    url = f\"https://store.steampowered.com/api/appdetails?appids={app_id}\"\n",
    "    response = requests.get(url)\n",
    "    \n",
    "    if response.status_code == 200:\n",
    "        data = response.json()\n",
    "        if data[str(app_id)][\"success\"]:\n",
    "            game_data = data[str(app_id)][\"data\"]\n",
    "            return {\n",
    "                \"app_id\": app_id,\n",
    "                \"name\": game_data.get(\"name\"),\n",
    "                \"genres\": \", \".join([genre['description'] for genre in game_data.get(\"genres\", [])]),\n",
    "                \"header_image\": game_data.get(\"header_image\"),\n",
    "            }\n",
    "    return {}\n",
    "\n",
    "# Steam API를 통해 리뷰 데이터를 가져오는 함수\n",
    "def get_reviews_for_game(app_id, num_reviews=100):\n",
    "    url = f\"https://store.steampowered.com/appreviews/{app_id}\"\n",
    "    params = {\n",
    "        'json': 1,\n",
    "        'num_per_page': num_reviews,  # 한 번에 가져올 리뷰 수\n",
    "        'filter': 'recent',  # 최신 리뷰를 가져옴\n",
    "        'language': 'all'  # 모든 언어로 된 리뷰를 가져옴\n",
    "    }\n",
    "    response = requests.get(url, params=params)\n",
    "    data = response.json()\n",
    "\n",
    "    reviews = []\n",
    "\n",
    "    if 'reviews' in data:\n",
    "        for review in data['reviews']:\n",
    "            reviews.append({\n",
    "                'review_text': review.get('review'),\n",
    "                'review_score': review.get('voted_up'),\n",
    "                'language': review.get('language')\n",
    "            })\n",
    "\n",
    "    return reviews\n",
    "\n",
    "# 게임 이름, 장르, 이미지, 사용자 평가 및 언어를 포함한 데이터를 DataFrame으로 정리하는 함수\n",
    "def get_game_data_with_reviews(app_ids, num_reviews=100):\n",
    "    all_data = []\n",
    "\n",
    "    for app_id in app_ids:\n",
    "        # 1. 게임 세부 정보 가져오기\n",
    "        game_info = get_game_details(app_id)\n",
    "        \n",
    "        if game_info:\n",
    "            # 2. 게임에 대한 리뷰 가져오기\n",
    "            reviews = get_reviews_for_game(app_id, num_reviews)\n",
    "            \n",
    "            # 3. 각 리뷰에 게임 세부 정보 추가\n",
    "            for review in reviews:\n",
    "                all_data.append({\n",
    "                    'app_id': game_info['app_id'],\n",
    "                    'game_name': game_info['name'],\n",
    "                    'game_genres': game_info['genres'],\n",
    "                    'game_image': game_info['header_image'],\n",
    "                    'review_text': review['review_text'],\n",
    "                    'review_score': review['review_score'],\n",
    "                    'language': review['language']\n",
    "                })\n",
    "\n",
    "    # 모든 데이터를 DataFrame으로 변환\n",
    "    df = pd.DataFrame(all_data)\n",
    "    return df\n",
    "\n",
    "# 게임 데이터 및 리뷰 가져오기\n",
    "df_game_data = get_game_data_with_reviews(app_id, num_reviews=50)  # 각 게임당 50개의 리뷰 가져오기\n",
    "\n",
    "# CSV 파일로 저장\n",
    "df_game_data.to_csv('action.csv', index=False)\n"
   ]
  },
  {
   "cell_type": "code",
   "execution_count": 75,
   "metadata": {},
   "outputs": [
    {
     "data": {
      "text/plain": [
       "app_id\n",
       "578080     50\n",
       "1049590    50\n",
       "1091500    50\n",
       "1245620    50\n",
       "2183900    50\n",
       "2358720    50\n",
       "2344520    50\n",
       "2138330    50\n",
       "Name: count, dtype: int64"
      ]
     },
     "execution_count": 75,
     "metadata": {},
     "output_type": "execute_result"
    }
   ],
   "source": [
    "ex=pd.read_csv('action.csv')\n",
    "ex['app_id'].value_counts()"
   ]
  },
  {
   "cell_type": "code",
   "execution_count": null,
   "metadata": {},
   "outputs": [],
   "source": [
    "['578080', # 1\n",
    " '1049590', # 2\n",
    " '1091500', # 3\n",
    " '2139460', # 4 X\n",
    " '1245620', # 5\n",
    " '2074920', # 6 X \n",
    " '2183900', # 7\n",
    " '2358720', # 8\n",
    " '2344520', # 9\n",
    " '2138330'] # 10"
   ]
  },
  {
   "cell_type": "code",
   "execution_count": 91,
   "metadata": {},
   "outputs": [
    {
     "name": "stdout",
     "output_type": "stream",
     "text": [
      "{'app_id': 2074920, 'name': 'The First Descendant', 'genres': 'Action, Adventure, RPG, Free To Play', 'header_image': 'https://shared.akamai.steamstatic.com/store_item_assets/steam/apps/2074920/header.jpg?t=1725356337'}\n"
     ]
    }
   ],
   "source": [
    "def get_game_data(app_id): # 이미지, id , 이름, 장르 정상적으로 작동 \n",
    "    url = f\"https://store.steampowered.com/api/appdetails?appids={app_id}\"\n",
    "    response = requests.get(url)\n",
    "    \n",
    "    if response.status_code == 200:\n",
    "        data = response.json()\n",
    "        if data[str(app_id)][\"success\"]:\n",
    "            game_data = data[str(app_id)][\"data\"]\n",
    "            return {\n",
    "                \"app_id\": app_id,\n",
    "                \"name\": game_data.get(\"name\"),\n",
    "                \"genres\": \", \".join([genre['description'] for genre in game_data.get(\"genres\", [])]),\n",
    "                \"header_image\": game_data.get(\"header_image\"),\n",
    "            }\n",
    "    return None  # 응답이 성공적이지 않은 경우 None 반환\n",
    "\n",
    "# 사용 예시\n",
    "game_info = get_game_data(2074920)\n",
    "print(game_info)\n",
    "       \n"
   ]
  },
  {
   "cell_type": "code",
   "execution_count": 92,
   "metadata": {},
   "outputs": [
    {
     "data": {
      "text/plain": [
       "{'success': 1,\n",
       " 'query_summary': {'num_reviews': 0,\n",
       "  'review_score': 0,\n",
       "  'review_score_desc': 'No user reviews',\n",
       "  'total_positive': 0,\n",
       "  'total_negative': 0,\n",
       "  'total_reviews': 0},\n",
       " 'reviews': [],\n",
       " 'cursor': '*'}"
      ]
     },
     "execution_count": 92,
     "metadata": {},
     "output_type": "execute_result"
    }
   ],
   "source": [
    "# Steam API를 통해 리뷰 데이터를 가져오는 함수 # 2139460, 2074920 정상적으로 작동 x \n",
    "\n",
    "url = f\"https://store.steampowered.com/appreviews/{2074920}\"\n",
    "params = {\n",
    "        'json': 1,\n",
    "        'num_per_page': 50,  # 한 번에 가져올 리뷰 수\n",
    "        'filter': 'recent',  # 최신 리뷰를 가져옴\n",
    "        'language': 'all'  # 모든 언어로 된 리뷰를 가져옴\n",
    "}\n",
    "response = requests.get(url, params=params)\n",
    "data = response.json()\n",
    "data\n",
    "    "
   ]
  }
 ],
 "metadata": {
  "kernelspec": {
   "display_name": "base",
   "language": "python",
   "name": "python3"
  },
  "language_info": {
   "codemirror_mode": {
    "name": "ipython",
    "version": 3
   },
   "file_extension": ".py",
   "mimetype": "text/x-python",
   "name": "python",
   "nbconvert_exporter": "python",
   "pygments_lexer": "ipython3",
   "version": "3.12.4"
  }
 },
 "nbformat": 4,
 "nbformat_minor": 2
}
